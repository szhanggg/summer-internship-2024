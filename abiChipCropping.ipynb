{
 "cells": [
  {
   "cell_type": "code",
   "execution_count": 2,
   "id": "7b1e3a38-a971-4ad9-b4ff-ce53b91b93f6",
   "metadata": {},
   "outputs": [
    {
     "ename": "ModuleNotFoundError",
     "evalue": "No module named 'h5py'",
     "output_type": "error",
     "traceback": [
      "\u001b[0;31m---------------------------------------------------------------------------\u001b[0m",
      "\u001b[0;31mModuleNotFoundError\u001b[0m                       Traceback (most recent call last)",
      "Cell \u001b[0;32mIn [2], line 6\u001b[0m\n\u001b[1;32m      4\u001b[0m \u001b[38;5;28;01mimport\u001b[39;00m \u001b[38;5;21;01mglob\u001b[39;00m\n\u001b[1;32m      5\u001b[0m \u001b[38;5;28;01mfrom\u001b[39;00m \u001b[38;5;21;01mmultiprocessing\u001b[39;00m \u001b[38;5;28;01mimport\u001b[39;00m Pool\n\u001b[0;32m----> 6\u001b[0m \u001b[38;5;28;01mimport\u001b[39;00m \u001b[38;5;21;01mh5py\u001b[39;00m\n",
      "\u001b[0;31mModuleNotFoundError\u001b[0m: No module named 'h5py'"
     ]
    }
   ],
   "source": [
    "import numpy as np\n",
    "import numpy.ma as ma\n",
    "import os\n",
    "import glob\n",
    "from multiprocessing import Pool\n",
    "\n",
    "path = \"H:\\\\Yiding\\\\muti_layer\\\\2018_true_wide_90-150w_abi_idx\\\\2018283185613_66324_CS_2B-CLDCLASS-LIDAR_GRANULE_P1_R05_E08_F03.npz\"\n",
    "\n",
    "abi_path = \"H:\\\\Yiding\\\\muti_layer\\\\2018_feature_wide_90-150w\\\\\"\n",
    "\n",
    "\n",
    "def get_chip(data, x, y):\n",
    "    SIZE = 128, 128\n",
    "    chip = data[x - 64: x + 64, y - 64: y + 64]\n",
    "    if chip.shape == SIZE: return chip\n",
    "\n",
    "\n",
    "def process_file(data):\n",
    "    primary, secondary = data[0], data[1]\n",
    "\n",
    "    this_abi, x, y = primary\n",
    "    all_abi_files = glob.glob(abi_path + this_abi)\n",
    "\n",
    "    # CHECK FOR VALID x, y COORDINATES\n",
    "    dim_test_file = np.load(all_abi_files[0])['data']\n",
    "\n",
    "    MAX_X, MAX_Y = dim_test_file.shape[0] - 64, dim_test_file.shape[1] - 64\n",
    "    MIN_X, MIN_Y = 0 + 64, 0 + 64\n",
    "\n",
    "    del dim_test_file\n",
    "\n",
    "    if (MIN_X > x) or (x > MAX_X) or (MIN_Y > y) or (y > MAX_Y):\n",
    "        return None\n",
    "\n",
    "    channels = []\n",
    "    for file in all_abi_files:\n",
    "        with np.load(file) as abi:\n",
    "            if len(abi) == 1:\n",
    "                c = get_chip(abi['data'], x, y)\n",
    "                if c is not None: channels.append(c)\n",
    "            else:  # MASK | 0 == GOOD DATA, 1 == SKIP\n",
    "                mask = abi['mask']\n",
    "                if not mask[x][y]:\n",
    "                    c = get_chip(abi['data'], x, y)\n",
    "                    if c is not None: channels.append(c)\n",
    "                else:\n",
    "                    pass\n",
    "\n",
    "    if channels:\n",
    "        SIZE = 128, 128, 16\n",
    "        chip = np.stack(channels, axis=2)\n",
    "        if chip.shape == SIZE:\n",
    "            return chip, secondary\n",
    "\n",
    "    return None\n",
    "\n",
    "\n",
    "def process_directory(directory):\n",
    "    total_chips = 0\n",
    "\n",
    "    # FOR EACH FILE\n",
    "    for filename in list(os.listdir(directory))[1:2]:\n",
    "\n",
    "        # IF FILE IS OF TYPE NUMPY\n",
    "        if filename.endswith(\".npz\"):\n",
    "            # CREATE FULL PATH\n",
    "            path = os.path.join(directory, filename)\n",
    "\n",
    "            # LOAD FILE FROM FULL PATH\n",
    "            with np.load(path) as f:\n",
    "                # GET NUMBER OF ENTRIES IN FILE\n",
    "                entries = len(f['abi_file_name'])\n",
    "\n",
    "                # PRIMARY (USED) DATA\n",
    "                abi_files, xs, ys = f['abi_file_name'], f['abi_x'], f['abi_y']\n",
    "\n",
    "                # INDEX\n",
    "                ID = list(range(entries))\n",
    "\n",
    "                def get_primary(IDX):\n",
    "                    return [abi_files[IDX], xs[IDX], ys[IDX]]\n",
    "\n",
    "                def get_secondary(IDX):\n",
    "                    output = {}\n",
    "                    names = [\"ID\", \"x\", \"y\"]\n",
    "                    for name, each in zip(names, [ID, xs, ys]):\n",
    "                        output.update({name: each[IDX]})\n",
    "                    return output\n",
    "\n",
    "                parameters = [(get_primary(IDX), get_secondary(IDX)) for IDX in range(entries)]\n",
    "\n",
    "            # USE POOL TO MULTI–THREAD FILE PROCESS\n",
    "            with Pool(processes=32) as pool:\n",
    "                results = pool.map(process_file, parameters)\n",
    "\n",
    "            # FILTER OUT NONE RESULTS\n",
    "            chips = [result[0] for result in results if result is not None]\n",
    "            associate_data = [result[1] for result in results if result is not None]\n",
    "\n",
    "            # SAVE DATA AS NPZ (MUST ALLOW PICKLE)\n",
    "            np.savez(\"H:\\\\chips_valid\\\\\" + filename[0:-4]+\"_chips.npz\", chips=chips, data=associate_data)\n",
    "\n",
    "            total_chips += len(chips)\n",
    "            print(f\"PROCESSED {filename}\\nGENERATED {len(chips)} CHIPS, WITH {len(associate_data)} ASSOCIATE DATA. TOTAL CHIPS: {total_chips}\")\n",
    "            break\n",
    "\n",
    "\n",
    "if __name__ == '__main__':\n",
    "    directory = \"H:\\\\Yiding\\\\muti_layer\\\\2018_true_wide_90-150w_abi_idx\\\\\"\n",
    "    process_directory(directory=directory)"
   ]
  },
  {
   "cell_type": "code",
   "execution_count": 3,
   "id": "367458a5-2136-468a-b4b0-ab9a33177711",
   "metadata": {},
   "outputs": [
    {
     "name": "stdout",
     "output_type": "stream",
     "text": [
      "Defaulting to user installation because normal site-packages is not writeable\n",
      "Collecting h5py\n",
      "  Downloading h5py-3.11.0-cp39-cp39-manylinux_2_17_x86_64.manylinux2014_x86_64.whl (5.3 MB)\n",
      "\u001b[2K     \u001b[90m━━━━━━━━━━━━━━━━━━━━━━━━━━━━━━━━━━━━━━━━\u001b[0m \u001b[32m5.3/5.3 MB\u001b[0m \u001b[31m12.0 MB/s\u001b[0m eta \u001b[36m0:00:00\u001b[0m00:01\u001b[0m00:01\u001b[0m\n",
      "\u001b[?25hRequirement already satisfied: numpy>=1.17.3 in /panfs/ccds02/app/modules/jupyter/ilab/pytorch-kernel-bak/lib/python3.9/site-packages (from h5py) (1.23.5)\n",
      "Installing collected packages: h5py\n",
      "Successfully installed h5py-3.11.0\n"
     ]
    }
   ],
   "source": [
    "!pip install h5py"
   ]
  },
  {
   "cell_type": "code",
   "execution_count": 5,
   "id": "5ee8f588-7669-409d-a704-83f5a331a1b4",
   "metadata": {},
   "outputs": [],
   "source": [
    "import numpy as np\n",
    "import numpy.ma as ma\n",
    "import os\n",
    "import glob\n",
    "from multiprocessing import Pool\n",
    "import h5py"
   ]
  },
  {
   "cell_type": "code",
   "execution_count": null,
   "id": "8a7e503c-7269-4e96-a6e4-a9d6ad6dec76",
   "metadata": {},
   "outputs": [],
   "source": [
    "path = \"H:\\\\Yiding\\\\muti_layer\\\\2018_true_wide_90-150w_abi_idx\\\\2018283185613_66324_CS_2B-CLDCLASS-LIDAR_GRANULE_P1_R05_E08_F03.npz\"\n",
    "\n",
    "abi_path = \"H:\\\\Yiding\\\\muti_layer\\\\2018_feature_wide_90-150w\\\\\""
   ]
  }
 ],
 "metadata": {
  "kernelspec": {
   "display_name": "Python [conda env:ilab-pytorch]",
   "language": "python",
   "name": "conda-env-ilab-pytorch-py"
  },
  "language_info": {
   "codemirror_mode": {
    "name": "ipython",
    "version": 3
   },
   "file_extension": ".py",
   "mimetype": "text/x-python",
   "name": "python",
   "nbconvert_exporter": "python",
   "pygments_lexer": "ipython3",
   "version": "3.9.15"
  }
 },
 "nbformat": 4,
 "nbformat_minor": 5
}
